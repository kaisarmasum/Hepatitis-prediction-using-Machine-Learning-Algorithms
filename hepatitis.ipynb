{
 "cells": [
  {
   "cell_type": "markdown",
   "metadata": {},
   "source": [
    "#### Read Dataset"
   ]
  },
  {
   "cell_type": "code",
   "execution_count": 18,
   "metadata": {
    "collapsed": true
   },
   "outputs": [],
   "source": [
    "import pandas as pd"
   ]
  },
  {
   "cell_type": "code",
   "execution_count": 19,
   "metadata": {
    "collapsed": true
   },
   "outputs": [],
   "source": [
    "df=pd.read_csv(\"hepatitis.csv\")"
   ]
  },
  {
   "cell_type": "code",
   "execution_count": 20,
   "metadata": {},
   "outputs": [
    {
     "data": {
      "text/html": [
       "<div>\n",
       "<style>\n",
       "    .dataframe thead tr:only-child th {\n",
       "        text-align: right;\n",
       "    }\n",
       "\n",
       "    .dataframe thead th {\n",
       "        text-align: left;\n",
       "    }\n",
       "\n",
       "    .dataframe tbody tr th {\n",
       "        vertical-align: top;\n",
       "    }\n",
       "</style>\n",
       "<table border=\"1\" class=\"dataframe\">\n",
       "  <thead>\n",
       "    <tr style=\"text-align: right;\">\n",
       "      <th></th>\n",
       "      <th>class</th>\n",
       "      <th>age</th>\n",
       "      <th>sex</th>\n",
       "      <th>steroid</th>\n",
       "      <th>antivirals</th>\n",
       "      <th>fatigue</th>\n",
       "      <th>malaise</th>\n",
       "      <th>anorexia</th>\n",
       "      <th>liver_big</th>\n",
       "      <th>liver_firm</th>\n",
       "      <th>spleen_palable</th>\n",
       "      <th>spiders</th>\n",
       "      <th>ascites</th>\n",
       "      <th>varices</th>\n",
       "      <th>bilirubin</th>\n",
       "      <th>alk_phosphate</th>\n",
       "      <th>sgot</th>\n",
       "      <th>albumin</th>\n",
       "      <th>protime</th>\n",
       "      <th>histology</th>\n",
       "    </tr>\n",
       "  </thead>\n",
       "  <tbody>\n",
       "    <tr>\n",
       "      <th>0</th>\n",
       "      <td>2</td>\n",
       "      <td>30</td>\n",
       "      <td>2</td>\n",
       "      <td>1</td>\n",
       "      <td>2</td>\n",
       "      <td>2</td>\n",
       "      <td>2</td>\n",
       "      <td>2</td>\n",
       "      <td>1</td>\n",
       "      <td>2</td>\n",
       "      <td>2</td>\n",
       "      <td>2</td>\n",
       "      <td>2</td>\n",
       "      <td>2</td>\n",
       "      <td>1.0</td>\n",
       "      <td>85</td>\n",
       "      <td>18</td>\n",
       "      <td>4.0</td>\n",
       "      <td>61</td>\n",
       "      <td>1</td>\n",
       "    </tr>\n",
       "    <tr>\n",
       "      <th>1</th>\n",
       "      <td>2</td>\n",
       "      <td>50</td>\n",
       "      <td>1</td>\n",
       "      <td>1</td>\n",
       "      <td>2</td>\n",
       "      <td>1</td>\n",
       "      <td>2</td>\n",
       "      <td>2</td>\n",
       "      <td>1</td>\n",
       "      <td>2</td>\n",
       "      <td>2</td>\n",
       "      <td>2</td>\n",
       "      <td>2</td>\n",
       "      <td>2</td>\n",
       "      <td>0.9</td>\n",
       "      <td>135</td>\n",
       "      <td>42</td>\n",
       "      <td>3.5</td>\n",
       "      <td>61</td>\n",
       "      <td>1</td>\n",
       "    </tr>\n",
       "    <tr>\n",
       "      <th>2</th>\n",
       "      <td>2</td>\n",
       "      <td>78</td>\n",
       "      <td>1</td>\n",
       "      <td>2</td>\n",
       "      <td>2</td>\n",
       "      <td>1</td>\n",
       "      <td>2</td>\n",
       "      <td>2</td>\n",
       "      <td>2</td>\n",
       "      <td>2</td>\n",
       "      <td>2</td>\n",
       "      <td>2</td>\n",
       "      <td>2</td>\n",
       "      <td>2</td>\n",
       "      <td>0.7</td>\n",
       "      <td>96</td>\n",
       "      <td>32</td>\n",
       "      <td>4.0</td>\n",
       "      <td>61</td>\n",
       "      <td>1</td>\n",
       "    </tr>\n",
       "    <tr>\n",
       "      <th>3</th>\n",
       "      <td>2</td>\n",
       "      <td>34</td>\n",
       "      <td>1</td>\n",
       "      <td>2</td>\n",
       "      <td>2</td>\n",
       "      <td>2</td>\n",
       "      <td>2</td>\n",
       "      <td>2</td>\n",
       "      <td>2</td>\n",
       "      <td>2</td>\n",
       "      <td>2</td>\n",
       "      <td>2</td>\n",
       "      <td>2</td>\n",
       "      <td>2</td>\n",
       "      <td>1.0</td>\n",
       "      <td>105</td>\n",
       "      <td>200</td>\n",
       "      <td>4.0</td>\n",
       "      <td>61</td>\n",
       "      <td>1</td>\n",
       "    </tr>\n",
       "    <tr>\n",
       "      <th>4</th>\n",
       "      <td>2</td>\n",
       "      <td>34</td>\n",
       "      <td>1</td>\n",
       "      <td>2</td>\n",
       "      <td>2</td>\n",
       "      <td>2</td>\n",
       "      <td>2</td>\n",
       "      <td>2</td>\n",
       "      <td>2</td>\n",
       "      <td>2</td>\n",
       "      <td>2</td>\n",
       "      <td>2</td>\n",
       "      <td>2</td>\n",
       "      <td>2</td>\n",
       "      <td>0.9</td>\n",
       "      <td>95</td>\n",
       "      <td>28</td>\n",
       "      <td>4.0</td>\n",
       "      <td>75</td>\n",
       "      <td>1</td>\n",
       "    </tr>\n",
       "  </tbody>\n",
       "</table>\n",
       "</div>"
      ],
      "text/plain": [
       "   class  age  sex  steroid  antivirals  fatigue  malaise  anorexia  \\\n",
       "0      2   30    2        1           2        2        2         2   \n",
       "1      2   50    1        1           2        1        2         2   \n",
       "2      2   78    1        2           2        1        2         2   \n",
       "3      2   34    1        2           2        2        2         2   \n",
       "4      2   34    1        2           2        2        2         2   \n",
       "\n",
       "   liver_big  liver_firm  spleen_palable  spiders  ascites  varices  \\\n",
       "0          1           2               2        2        2        2   \n",
       "1          1           2               2        2        2        2   \n",
       "2          2           2               2        2        2        2   \n",
       "3          2           2               2        2        2        2   \n",
       "4          2           2               2        2        2        2   \n",
       "\n",
       "   bilirubin  alk_phosphate  sgot  albumin  protime  histology  \n",
       "0        1.0             85    18      4.0       61          1  \n",
       "1        0.9            135    42      3.5       61          1  \n",
       "2        0.7             96    32      4.0       61          1  \n",
       "3        1.0            105   200      4.0       61          1  \n",
       "4        0.9             95    28      4.0       75          1  "
      ]
     },
     "execution_count": 20,
     "metadata": {},
     "output_type": "execute_result"
    }
   ],
   "source": [
    "df.head()"
   ]
  },
  {
   "cell_type": "code",
   "execution_count": 21,
   "metadata": {},
   "outputs": [
    {
     "data": {
      "text/plain": [
       "(142, 20)"
      ]
     },
     "execution_count": 21,
     "metadata": {},
     "output_type": "execute_result"
    }
   ],
   "source": [
    "df.shape"
   ]
  },
  {
   "cell_type": "code",
   "execution_count": 22,
   "metadata": {},
   "outputs": [
    {
     "data": {
      "text/plain": [
       "class             0\n",
       "age               0\n",
       "sex               0\n",
       "steroid           0\n",
       "antivirals        0\n",
       "fatigue           0\n",
       "malaise           0\n",
       "anorexia          0\n",
       "liver_big         0\n",
       "liver_firm        0\n",
       "spleen_palable    0\n",
       "spiders           0\n",
       "ascites           0\n",
       "varices           0\n",
       "bilirubin         0\n",
       "alk_phosphate     0\n",
       "sgot              0\n",
       "albumin           0\n",
       "protime           0\n",
       "histology         0\n",
       "dtype: int64"
      ]
     },
     "execution_count": 22,
     "metadata": {},
     "output_type": "execute_result"
    }
   ],
   "source": [
    "df.isnull().sum()  # check null value "
   ]
  },
  {
   "cell_type": "code",
   "execution_count": 23,
   "metadata": {},
   "outputs": [
    {
     "data": {
      "text/html": [
       "<div>\n",
       "<style>\n",
       "    .dataframe thead tr:only-child th {\n",
       "        text-align: right;\n",
       "    }\n",
       "\n",
       "    .dataframe thead th {\n",
       "        text-align: left;\n",
       "    }\n",
       "\n",
       "    .dataframe tbody tr th {\n",
       "        vertical-align: top;\n",
       "    }\n",
       "</style>\n",
       "<table border=\"1\" class=\"dataframe\">\n",
       "  <thead>\n",
       "    <tr style=\"text-align: right;\">\n",
       "      <th></th>\n",
       "      <th>class</th>\n",
       "      <th>age</th>\n",
       "      <th>sex</th>\n",
       "      <th>steroid</th>\n",
       "      <th>antivirals</th>\n",
       "      <th>fatigue</th>\n",
       "      <th>malaise</th>\n",
       "      <th>anorexia</th>\n",
       "      <th>liver_big</th>\n",
       "      <th>liver_firm</th>\n",
       "      <th>spleen_palable</th>\n",
       "      <th>spiders</th>\n",
       "      <th>ascites</th>\n",
       "      <th>varices</th>\n",
       "      <th>bilirubin</th>\n",
       "      <th>alk_phosphate</th>\n",
       "      <th>sgot</th>\n",
       "      <th>albumin</th>\n",
       "      <th>protime</th>\n",
       "      <th>histology</th>\n",
       "    </tr>\n",
       "  </thead>\n",
       "  <tbody>\n",
       "    <tr>\n",
       "      <th>count</th>\n",
       "      <td>142.000000</td>\n",
       "      <td>142.000000</td>\n",
       "      <td>142.000000</td>\n",
       "      <td>142.000000</td>\n",
       "      <td>142.000000</td>\n",
       "      <td>142.000000</td>\n",
       "      <td>142.000000</td>\n",
       "      <td>142.000000</td>\n",
       "      <td>142.000000</td>\n",
       "      <td>142.000000</td>\n",
       "      <td>142.000000</td>\n",
       "      <td>142.000000</td>\n",
       "      <td>142.000000</td>\n",
       "      <td>142.000000</td>\n",
       "      <td>142.000000</td>\n",
       "      <td>142.000000</td>\n",
       "      <td>142.000000</td>\n",
       "      <td>142.000000</td>\n",
       "      <td>142.000000</td>\n",
       "      <td>142.000000</td>\n",
       "    </tr>\n",
       "    <tr>\n",
       "      <th>mean</th>\n",
       "      <td>1.816901</td>\n",
       "      <td>40.816901</td>\n",
       "      <td>1.105634</td>\n",
       "      <td>1.514085</td>\n",
       "      <td>1.838028</td>\n",
       "      <td>1.359155</td>\n",
       "      <td>1.619718</td>\n",
       "      <td>1.795775</td>\n",
       "      <td>1.823944</td>\n",
       "      <td>1.584507</td>\n",
       "      <td>1.809859</td>\n",
       "      <td>1.669014</td>\n",
       "      <td>1.880282</td>\n",
       "      <td>1.880282</td>\n",
       "      <td>1.382958</td>\n",
       "      <td>105.647887</td>\n",
       "      <td>83.507042</td>\n",
       "      <td>3.830493</td>\n",
       "      <td>61.704225</td>\n",
       "      <td>1.443662</td>\n",
       "    </tr>\n",
       "    <tr>\n",
       "      <th>std</th>\n",
       "      <td>0.388116</td>\n",
       "      <td>12.189182</td>\n",
       "      <td>0.308456</td>\n",
       "      <td>0.501571</td>\n",
       "      <td>0.369729</td>\n",
       "      <td>0.481451</td>\n",
       "      <td>0.487174</td>\n",
       "      <td>0.404561</td>\n",
       "      <td>0.382216</td>\n",
       "      <td>0.494551</td>\n",
       "      <td>0.393801</td>\n",
       "      <td>0.472234</td>\n",
       "      <td>0.325781</td>\n",
       "      <td>0.325781</td>\n",
       "      <td>1.166526</td>\n",
       "      <td>47.375099</td>\n",
       "      <td>82.417700</td>\n",
       "      <td>0.618103</td>\n",
       "      <td>17.696732</td>\n",
       "      <td>0.498575</td>\n",
       "    </tr>\n",
       "    <tr>\n",
       "      <th>min</th>\n",
       "      <td>1.000000</td>\n",
       "      <td>7.000000</td>\n",
       "      <td>1.000000</td>\n",
       "      <td>1.000000</td>\n",
       "      <td>1.000000</td>\n",
       "      <td>1.000000</td>\n",
       "      <td>1.000000</td>\n",
       "      <td>1.000000</td>\n",
       "      <td>1.000000</td>\n",
       "      <td>1.000000</td>\n",
       "      <td>1.000000</td>\n",
       "      <td>1.000000</td>\n",
       "      <td>1.000000</td>\n",
       "      <td>1.000000</td>\n",
       "      <td>0.300000</td>\n",
       "      <td>26.000000</td>\n",
       "      <td>14.000000</td>\n",
       "      <td>2.100000</td>\n",
       "      <td>0.000000</td>\n",
       "      <td>1.000000</td>\n",
       "    </tr>\n",
       "    <tr>\n",
       "      <th>25%</th>\n",
       "      <td>2.000000</td>\n",
       "      <td>32.000000</td>\n",
       "      <td>1.000000</td>\n",
       "      <td>1.000000</td>\n",
       "      <td>2.000000</td>\n",
       "      <td>1.000000</td>\n",
       "      <td>1.000000</td>\n",
       "      <td>2.000000</td>\n",
       "      <td>2.000000</td>\n",
       "      <td>1.000000</td>\n",
       "      <td>2.000000</td>\n",
       "      <td>1.000000</td>\n",
       "      <td>2.000000</td>\n",
       "      <td>2.000000</td>\n",
       "      <td>0.700000</td>\n",
       "      <td>78.500000</td>\n",
       "      <td>32.250000</td>\n",
       "      <td>3.500000</td>\n",
       "      <td>56.250000</td>\n",
       "      <td>1.000000</td>\n",
       "    </tr>\n",
       "    <tr>\n",
       "      <th>50%</th>\n",
       "      <td>2.000000</td>\n",
       "      <td>39.000000</td>\n",
       "      <td>1.000000</td>\n",
       "      <td>2.000000</td>\n",
       "      <td>2.000000</td>\n",
       "      <td>1.000000</td>\n",
       "      <td>2.000000</td>\n",
       "      <td>2.000000</td>\n",
       "      <td>2.000000</td>\n",
       "      <td>2.000000</td>\n",
       "      <td>2.000000</td>\n",
       "      <td>2.000000</td>\n",
       "      <td>2.000000</td>\n",
       "      <td>2.000000</td>\n",
       "      <td>1.000000</td>\n",
       "      <td>100.000000</td>\n",
       "      <td>58.000000</td>\n",
       "      <td>3.900000</td>\n",
       "      <td>61.000000</td>\n",
       "      <td>1.000000</td>\n",
       "    </tr>\n",
       "    <tr>\n",
       "      <th>75%</th>\n",
       "      <td>2.000000</td>\n",
       "      <td>50.000000</td>\n",
       "      <td>1.000000</td>\n",
       "      <td>2.000000</td>\n",
       "      <td>2.000000</td>\n",
       "      <td>2.000000</td>\n",
       "      <td>2.000000</td>\n",
       "      <td>2.000000</td>\n",
       "      <td>2.000000</td>\n",
       "      <td>2.000000</td>\n",
       "      <td>2.000000</td>\n",
       "      <td>2.000000</td>\n",
       "      <td>2.000000</td>\n",
       "      <td>2.000000</td>\n",
       "      <td>1.480000</td>\n",
       "      <td>119.750000</td>\n",
       "      <td>99.500000</td>\n",
       "      <td>4.200000</td>\n",
       "      <td>66.000000</td>\n",
       "      <td>2.000000</td>\n",
       "    </tr>\n",
       "    <tr>\n",
       "      <th>max</th>\n",
       "      <td>2.000000</td>\n",
       "      <td>78.000000</td>\n",
       "      <td>2.000000</td>\n",
       "      <td>2.000000</td>\n",
       "      <td>2.000000</td>\n",
       "      <td>2.000000</td>\n",
       "      <td>2.000000</td>\n",
       "      <td>2.000000</td>\n",
       "      <td>2.000000</td>\n",
       "      <td>2.000000</td>\n",
       "      <td>2.000000</td>\n",
       "      <td>2.000000</td>\n",
       "      <td>2.000000</td>\n",
       "      <td>2.000000</td>\n",
       "      <td>8.000000</td>\n",
       "      <td>295.000000</td>\n",
       "      <td>648.000000</td>\n",
       "      <td>6.400000</td>\n",
       "      <td>100.000000</td>\n",
       "      <td>2.000000</td>\n",
       "    </tr>\n",
       "  </tbody>\n",
       "</table>\n",
       "</div>"
      ],
      "text/plain": [
       "            class         age         sex     steroid  antivirals     fatigue  \\\n",
       "count  142.000000  142.000000  142.000000  142.000000  142.000000  142.000000   \n",
       "mean     1.816901   40.816901    1.105634    1.514085    1.838028    1.359155   \n",
       "std      0.388116   12.189182    0.308456    0.501571    0.369729    0.481451   \n",
       "min      1.000000    7.000000    1.000000    1.000000    1.000000    1.000000   \n",
       "25%      2.000000   32.000000    1.000000    1.000000    2.000000    1.000000   \n",
       "50%      2.000000   39.000000    1.000000    2.000000    2.000000    1.000000   \n",
       "75%      2.000000   50.000000    1.000000    2.000000    2.000000    2.000000   \n",
       "max      2.000000   78.000000    2.000000    2.000000    2.000000    2.000000   \n",
       "\n",
       "          malaise    anorexia   liver_big  liver_firm  spleen_palable  \\\n",
       "count  142.000000  142.000000  142.000000  142.000000      142.000000   \n",
       "mean     1.619718    1.795775    1.823944    1.584507        1.809859   \n",
       "std      0.487174    0.404561    0.382216    0.494551        0.393801   \n",
       "min      1.000000    1.000000    1.000000    1.000000        1.000000   \n",
       "25%      1.000000    2.000000    2.000000    1.000000        2.000000   \n",
       "50%      2.000000    2.000000    2.000000    2.000000        2.000000   \n",
       "75%      2.000000    2.000000    2.000000    2.000000        2.000000   \n",
       "max      2.000000    2.000000    2.000000    2.000000        2.000000   \n",
       "\n",
       "          spiders     ascites     varices   bilirubin  alk_phosphate  \\\n",
       "count  142.000000  142.000000  142.000000  142.000000     142.000000   \n",
       "mean     1.669014    1.880282    1.880282    1.382958     105.647887   \n",
       "std      0.472234    0.325781    0.325781    1.166526      47.375099   \n",
       "min      1.000000    1.000000    1.000000    0.300000      26.000000   \n",
       "25%      1.000000    2.000000    2.000000    0.700000      78.500000   \n",
       "50%      2.000000    2.000000    2.000000    1.000000     100.000000   \n",
       "75%      2.000000    2.000000    2.000000    1.480000     119.750000   \n",
       "max      2.000000    2.000000    2.000000    8.000000     295.000000   \n",
       "\n",
       "             sgot     albumin     protime   histology  \n",
       "count  142.000000  142.000000  142.000000  142.000000  \n",
       "mean    83.507042    3.830493   61.704225    1.443662  \n",
       "std     82.417700    0.618103   17.696732    0.498575  \n",
       "min     14.000000    2.100000    0.000000    1.000000  \n",
       "25%     32.250000    3.500000   56.250000    1.000000  \n",
       "50%     58.000000    3.900000   61.000000    1.000000  \n",
       "75%     99.500000    4.200000   66.000000    2.000000  \n",
       "max    648.000000    6.400000  100.000000    2.000000  "
      ]
     },
     "execution_count": 23,
     "metadata": {},
     "output_type": "execute_result"
    }
   ],
   "source": [
    "df.describe()"
   ]
  },
  {
   "cell_type": "code",
   "execution_count": 24,
   "metadata": {
    "collapsed": true
   },
   "outputs": [],
   "source": [
    "import matplotlib.pyplot as plt\n",
    "import seaborn as sns"
   ]
  },
  {
   "cell_type": "code",
   "execution_count": 25,
   "metadata": {},
   "outputs": [
    {
     "data": {
      "image/png": "[encoded data removed]",
      "text/plain": [
       "<matplotlib.figure.Figure at 0x264c9eee080>"
      ]
     },
     "metadata": {},
     "output_type": "display_data"
    }
   ],
   "source": [
    "plt.figure(figsize=(8,8))\n",
    "sns.heatmap(df.corr(),annot=True,fmt='.1f')### confusion matrix of dataset\n",
    "plt.show()"
   ]
  },
  {
   "cell_type": "code",
   "execution_count": 26,
   "metadata": {},
   "outputs": [
    {
     "data": {
      "text/plain": [
       "2    116\n",
       "1     26\n",
       "Name: class, dtype: int64"
      ]
     },
     "execution_count": 26,
     "metadata": {},
     "output_type": "execute_result"
    }
   ],
   "source": [
    "df['class'].value_counts()"
   ]
  },
  {
   "cell_type": "code",
   "execution_count": 27,
   "metadata": {},
   "outputs": [
    {
     "data": {
      "image/png": "[encoded data removed]",
      "text/plain": [
       "<matplotlib.figure.Figure at 0x264c9f2cba8>"
      ]
     },
     "metadata": {},
     "output_type": "display_data"
    }
   ],
   "source": [
    "sns.countplot(x=\"class\", data=df)\n",
    "plt.show()"
   ]
  },
  {
   "cell_type": "code",
   "execution_count": 28,
   "metadata": {},
   "outputs": [
    {
     "data": {
      "image/png": "[encoded data removed]",
      "text/plain": [
       "<matplotlib.figure.Figure at 0x264ca37e978>"
      ]
     },
     "metadata": {},
     "output_type": "display_data"
    }
   ],
   "source": [
    "plt.scatter(x=df.age[df['class']==1], y=df.liver_big[(df['class']==1)], c=\"blue\")\n",
    "plt.scatter(x=df.age[df['class']==2], y=df.liver_big[(df['class']==2)],c=\"yellow\")\n",
    "plt.legend([\"DIE\", \"LIVE\"])\n",
    "plt.xlabel(\"Age\")\n",
    "plt.ylabel(\"Liver size\")\n",
    "yplt.show()"
   ]
  },
  {
   "cell_type": "code",
   "execution_count": 29,
   "metadata": {
    "collapsed": true
   },
   "outputs": [],
   "source": [
    "x = df.drop(['class'], axis = 1)\n",
    "y = df.histology.values"
   ]
  },
  {
   "cell_type": "code",
   "execution_count": 30,
   "metadata": {
    "collapsed": true
   },
   "outputs": [],
   "source": [
    "from sklearn.metrics import confusion_matrix\n",
    "from sklearn.model_selection import train_test_split\n",
    "from sklearn.metrics import classification_report\n",
    "from sklearn.preprocessing import StandardScaler\n",
    "from sklearn import metrics\n",
    "from sklearn.metrics import confusion_matrix, accuracy_score\n",
    "from sklearn.naive_bayes import GaussianNB\n",
    "from sklearn.svm import SVC\n",
    "from sklearn.tree import DecisionTreeClassifier\n"
   ]
  },
  {
   "cell_type": "markdown",
   "metadata": {},
   "source": [
    "#### Train test devide "
   ]
  },
  {
   "cell_type": "code",
   "execution_count": 31,
   "metadata": {
    "collapsed": true
   },
   "outputs": [],
   "source": [
    "x_train,x_test,y_train,y_test = train_test_split(x,y,test_size=0.25,random_state=42)"
   ]
  },
  {
   "cell_type": "markdown",
   "metadata": {},
   "source": [
    "### data preprocess with standard scaler "
   ]
  },
  {
   "cell_type": "code",
   "execution_count": 33,
   "metadata": {
    "collapsed": true
   },
   "outputs": [],
   "source": [
    "stdc=StandardScaler()\n",
    "x_train=stdc.fit_transform(x_train)\n",
    "x_test=stdc.transform(x_test)"
   ]
  },
  {
   "cell_type": "markdown",
   "metadata": {},
   "source": [
    "#### Naive Bias"
   ]
  },
  {
   "cell_type": "code",
   "execution_count": 34,
   "metadata": {},
   "outputs": [
    {
     "name": "stdout",
     "output_type": "stream",
     "text": [
      "Confusion Matrix for Gaussian Naive Bayes:\n",
      "[[22  0]\n",
      " [ 0 14]]\n",
      "Score: 100.0\n",
      "Classification Report:              precision    recall  f1-score   support\n",
      "\n",
      "          1       1.00      1.00      1.00        22\n",
      "          2       1.00      1.00      1.00        14\n",
      "\n",
      "avg / total       1.00      1.00      1.00        36\n",
      "\n"
     ]
    }
   ],
   "source": [
    "gnb = GaussianNB()\n",
    "gnb.fit(x_train,y_train)\n",
    "predgnb = gnb.predict(x_test)\n",
    "print(\"Confusion Matrix for Gaussian Naive Bayes:\")\n",
    "print(confusion_matrix(y_test,predgnb))\n",
    "print(\"Score:\",round(accuracy_score(y_test,predgnb)*100,2))\n",
    "print(\"Classification Report:\",classification_report(y_test,predgnb))"
   ]
  },
  {
   "cell_type": "code",
   "execution_count": 35,
   "metadata": {},
   "outputs": [
    {
     "name": "stdout",
     "output_type": "stream",
     "text": [
      "Accuracy: 100.0 %\n"
     ]
    }
   ],
   "source": [
    "acc1=metrics.accuracy_score(y_test, predgnb)\n",
    "print(\"Accuracy:\",round(acc1*100),\"%\")"
   ]
  },
  {
   "cell_type": "markdown",
   "metadata": {},
   "source": [
    "### SVM"
   ]
  },
  {
   "cell_type": "code",
   "execution_count": 36,
   "metadata": {},
   "outputs": [
    {
     "name": "stdout",
     "output_type": "stream",
     "text": [
      "Confusion Matrix for Support Vector Machines:\n",
      "[[22  0]\n",
      " [ 0 14]]\n",
      "Score: 100.0\n",
      "Classification Report:              precision    recall  f1-score   support\n",
      "\n",
      "          1       1.00      1.00      1.00        22\n",
      "          2       1.00      1.00      1.00        14\n",
      "\n",
      "avg / total       1.00      1.00      1.00        36\n",
      "\n"
     ]
    }
   ],
   "source": [
    "svm = SVC(random_state=101)\n",
    "svm.fit(x_train,y_train)\n",
    "predsvm = svm.predict(x_test)\n",
    "print(\"Confusion Matrix for Support Vector Machines:\")\n",
    "print(confusion_matrix(y_test,predsvm))\n",
    "print(\"Score:\",round(accuracy_score(y_test,predsvm)*100,2))\n",
    "print(\"Classification Report:\",classification_report(y_test,predsvm))"
   ]
  },
  {
   "cell_type": "code",
   "execution_count": 37,
   "metadata": {},
   "outputs": [
    {
     "name": "stdout",
     "output_type": "stream",
     "text": [
      "Accuracy: 100.0 %\n"
     ]
    }
   ],
   "source": [
    "acc2=metrics.accuracy_score(y_test,predsvm)\n",
    "print(\"Accuracy:\",round(acc2*100),\"%\")"
   ]
  },
  {
   "cell_type": "markdown",
   "metadata": {},
   "source": [
    "#### Decision Tree"
   ]
  },
  {
   "cell_type": "code",
   "execution_count": 38,
   "metadata": {},
   "outputs": [
    {
     "name": "stdout",
     "output_type": "stream",
     "text": [
      "Confusion Matrix for Decision Tree:\n",
      "[[22  0]\n",
      " [ 0 14]]\n",
      "Score: 100.0\n",
      "Classification Report:              precision    recall  f1-score   support\n",
      "\n",
      "          1       1.00      1.00      1.00        22\n",
      "          2       1.00      1.00      1.00        14\n",
      "\n",
      "avg / total       1.00      1.00      1.00        36\n",
      "\n"
     ]
    }
   ],
   "source": [
    "dt = DecisionTreeClassifier()\n",
    "dt.fit(x_train,y_train)\n",
    "preddt = dt.predict(x_test)\n",
    "print(\"Confusion Matrix for Decision Tree:\")\n",
    "print(confusion_matrix(y_test,preddt))\n",
    "print(\"Score:\",round(accuracy_score(y_test,preddt)*100,2))\n",
    "print(\"Classification Report:\",classification_report(y_test,preddt))"
   ]
  },
  {
   "cell_type": "code",
   "execution_count": 39,
   "metadata": {},
   "outputs": [
    {
     "name": "stdout",
     "output_type": "stream",
     "text": [
      "Accuracy: 100.0 %\n"
     ]
    }
   ],
   "source": [
    "acc3=metrics.accuracy_score(y_test,preddt)\n",
    "print(\"Accuracy:\",round(acc3*100),\"%\")"
   ]
  },
  {
   "cell_type": "markdown",
   "metadata": {},
   "source": [
    "### Accuracy Comparison graph\n"
   ]
  },
  {
   "cell_type": "code",
   "execution_count": 42,
   "metadata": {
    "scrolled": true
   },
   "outputs": [
    {
     "data": {
      "text/plain": [
       "Text(0.5,1,'Best Accuracy')"
      ]
     },
     "execution_count": 42,
     "metadata": {},
     "output_type": "execute_result"
    }
   ],
   "source": [
    "import matplotlib.pyplot as plt; plt.rcdefaults()\n",
    "import numpy as np\n",
    "import matplotlib.pyplot as plt\n",
    "\n",
    "objects = ('NB','SVM','DT')\n",
    "y_pos = np.arange(len(objects))\n",
    "performance = [acc1,acc2,acc3]\n",
    "\n",
    "plt.bar(y_pos, performance, align='center', alpha=0.5)\n",
    "plt.xticks(y_pos, objects)\n",
    "plt.ylabel('Score')\n",
    "plt.title('Best Accuracy')\n"
   ]
  },
  {
   "cell_type": "code",
   "execution_count": 43,
   "metadata": {},
   "outputs": [
    {
     "data": {
      "image/png": "[encoded data removed]",
      "text/plain": [
       "<matplotlib.figure.Figure at 0x264ca0aca20>"
      ]
     },
     "metadata": {},
     "output_type": "display_data"
    }
   ],
   "source": [
    "plt.show()"
   ]
  },
  {
   "cell_type": "markdown",
   "metadata": {},
   "source": [
    "#### Test Output"
   ]
  },
  {
   "cell_type": "code",
   "execution_count": 143,
   "metadata": {},
   "outputs": [
    {
     "name": "stdout",
     "output_type": "stream",
     "text": [
      "Enter age :30\n",
      "Enter sex :2\n",
      "Enter steroid :1\n",
      "Enter antivirals :2\n",
      "Enter fatigue :2\n",
      "Enter malaise :2\n",
      "Enter anorexia :2\n",
      "Enter liver_big :1\n",
      "Enter liver_firm :2\n",
      "Enter spleen_palable :2\n",
      "Enter spiders :2\n",
      "Enter ascites :2\n",
      "Enter varices :2\n",
      "Enter bilirubin :1\n",
      "Enter alk_phosphate :85\n",
      "Enter sgot :18\n",
      "Enter albumin :4\n",
      "Enter protime :61\n",
      "Enter histology :1\n"
     ]
    }
   ],
   "source": [
    "age=int(input(\"Enter age :\"))   \n",
    "sex=int(input(\"Enter sex :\"))   \n",
    "steroid=int(input(\"Enter steroid :\"))   \n",
    "antivirals=int(input(\"Enter antivirals :\"))   \n",
    "fatigue=int(input(\"Enter fatigue :\"))   \n",
    "malaise=int(input(\"Enter malaise :\"))              \n",
    "anorexia=int(input(\"Enter anorexia :\"))  \n",
    "liver_big=int(input(\"Enter liver_big :\"))\n",
    "liver_firm=int(input(\"Enter liver_firm :\"))       \n",
    "spleen_palable=int(input(\"Enter spleen_palable :\"))  \n",
    "spiders=int(input(\"Enter spiders :\"))         \n",
    "ascites=int(input(\"Enter ascites :\"))          \n",
    "varices=int(input(\"Enter varices :\"))          \n",
    "bilirubin=float(input(\"Enter bilirubin :\"))        \n",
    "alk_phosphate=int(input(\"Enter alk_phosphate :\"))    \n",
    "sgot=int(input(\"Enter sgot :\"))             \n",
    "albumin=float(input(\"Enter albumin :\"))          \n",
    "protime=int(input(\"Enter protime :\"))\n",
    "histology=int(input(\"Enter histology :\"))\n"
   ]
  },
  {
   "cell_type": "code",
   "execution_count": 144,
   "metadata": {},
   "outputs": [
    {
     "name": "stdout",
     "output_type": "stream",
     "text": [
      "[2]\n"
     ]
    }
   ],
   "source": [
    "testresult1=gnb.predict([[age,sex,steroid,antivirals,fatigue,malaise,anorexia,liver_big,liver_firm,spleen_palable,spiders,ascites\n",
    ",varices,bilirubin,alk_phosphate,sgot,albumin,protime,histology]])\n",
    "print(testresult1)"
   ]
  },
  {
   "cell_type": "code",
   "execution_count": 145,
   "metadata": {},
   "outputs": [
    {
     "name": "stdout",
     "output_type": "stream",
     "text": [
      "Naive Bias algorithm Prediction Result\n",
      "LIVE\n"
     ]
    }
   ],
   "source": [
    "print(\"Naive Bias algorithm Prediction Result\")\n",
    "if testresult1==1:\n",
    "    print(\"DIE\")\n",
    "else:\n",
    "    print(\"LIVE\")"
   ]
  },
  {
   "cell_type": "code",
   "execution_count": 146,
   "metadata": {},
   "outputs": [
    {
     "name": "stdout",
     "output_type": "stream",
     "text": [
      "[2]\n"
     ]
    }
   ],
   "source": [
    "testresult2=svm.predict([[age,sex,steroid,antivirals,fatigue,malaise,anorexia,liver_big,liver_firm,spleen_palable,spiders,ascites\n",
    ",varices,bilirubin,alk_phosphate,sgot,albumin,protime,histology]])\n",
    "print(testresult2)\n"
   ]
  },
  {
   "cell_type": "code",
   "execution_count": 147,
   "metadata": {},
   "outputs": [
    {
     "name": "stdout",
     "output_type": "stream",
     "text": [
      "Support Vector algorithm Prediction Result\n",
      "LIVE\n"
     ]
    }
   ],
   "source": [
    "print(\"Support Vector algorithm Prediction Result\")\n",
    "if testresult2==1:\n",
    "    print(\"DIE\")\n",
    "else:\n",
    "    print(\"LIVE\")"
   ]
  },
  {
   "cell_type": "code",
   "execution_count": 148,
   "metadata": {},
   "outputs": [
    {
     "name": "stdout",
     "output_type": "stream",
     "text": [
      "[2]\n"
     ]
    }
   ],
   "source": [
    "testresult3=dt.predict([[age,sex,steroid,antivirals,fatigue,malaise,anorexia,liver_big,liver_firm,spleen_palable,spiders,ascites\n",
    ",varices,bilirubin,alk_phosphate,sgot,albumin,protime,histology]])\n",
    "print(testresult3)"
   ]
  },
  {
   "cell_type": "code",
   "execution_count": 149,
   "metadata": {},
   "outputs": [
    {
     "name": "stdout",
     "output_type": "stream",
     "text": [
      "Decision Tree algorithm Prediction Result\n",
      "LIVE\n"
     ]
    }
   ],
   "source": [
    "print(\"Decision Tree algorithm Prediction Result\")\n",
    "if testresult3==1:\n",
    "    print(\"DIE\")\n",
    "else:\n",
    "    print(\"LIVE\")"
   ]
  },
  {
   "cell_type": "code",
   "execution_count": null,
   "metadata": {
    "collapsed": true
   },
   "outputs": [],
   "source": []
  }
 ],
 "metadata": {
  "kernelspec": {
   "display_name": "Python 3",
   "language": "python",
   "name": "python3"
  },
  "language_info": {
   "codemirror_mode": {
    "name": "ipython",
    "version": 3
   },
   "file_extension": ".py",
   "mimetype": "text/x-python",
   "name": "python",
   "nbconvert_exporter": "python",
   "pygments_lexer": "ipython3",
   "version": "3.6.3"
  }
 },
 "nbformat": 4,
 "nbformat_minor": 2
}
